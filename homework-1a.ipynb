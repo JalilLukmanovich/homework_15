{
 "cells": [
  {
   "cell_type": "markdown",
   "metadata": {},
   "source": [
    "# Домашняя работа №1"
   ]
  },
  {
   "cell_type": "code",
   "execution_count": 1,
   "metadata": {},
   "outputs": [],
   "source": [
    "import numpy as np\n",
    "import pylab as pl\n",
    "import pandas as pd\n",
    "import warnings\n",
    "import math\n",
    "from mpl_toolkits.mplot3d import Axes3D\n",
    "\n",
    "from matplotlib import pyplot as plt\n",
    "from scipy import linalg\n",
    "\n",
    "\n",
    "warnings.filterwarnings(\"ignore\")"
   ]
  },
  {
   "cell_type": "markdown",
   "metadata": {},
   "source": [
    "## Задание 1"
   ]
  },
  {
   "cell_type": "markdown",
   "metadata": {},
   "source": [
    "Изобразите с помощью matplotlib. Изобразите точку x + 2y + 3z. Найдите угол между векторами x, y и x, z. "
   ]
  },
  {
   "cell_type": "code",
   "execution_count": 2,
   "metadata": {},
   "outputs": [],
   "source": [
    "x = np.array([1,1])\n",
    "y = np.array([2, 0])\n",
    "z = np.array([0,2])"
   ]
  },
  {
   "cell_type": "code",
   "execution_count": 3,
   "metadata": {},
   "outputs": [
    {
     "data": {
      "text/plain": [
       "array([5, 7])"
      ]
     },
     "execution_count": 3,
     "metadata": {},
     "output_type": "execute_result"
    }
   ],
   "source": [
    "c = x + 2*y + 3*z\n",
    "c"
   ]
  },
  {
   "cell_type": "code",
   "execution_count": 10,
   "metadata": {},
   "outputs": [
    {
     "data": {
      "image/png": "[encoded data removed]",
      "text/plain": [
       "<Figure size 432x288 with 1 Axes>"
      ]
     },
     "metadata": {
      "needs_background": "light"
     },
     "output_type": "display_data"
    }
   ],
   "source": [
    "ax = plt.axes()\n",
    "\n",
    "plt.xlim( [0, 7] )\n",
    "plt.ylim( [0, 10] )\n",
    "\n",
    "ax.scatter(c[0], c[1], c='r', marker='s')\n",
    "\n",
    "plt.show()"
   ]
  },
  {
   "cell_type": "code",
   "execution_count": null,
   "metadata": {},
   "outputs": [],
   "source": [
    "x = np.array([1,1])\n",
    "y = np.array([2, 0])\n",
    "z = np.array([0,2])\n",
    "\n",
    "ax.plot([0,x[0]], [0,x[1]])\n",
    "ax.plot([0,y[0]], [0,y[1]])\n",
    "ax.plot([0,z[0]], [0,z[1]])\n",
    "\n",
    "ax.set_xlabel('x')\n",
    "ax.set_ylabel('y')\n",
    "#ax.set_zlabel('z')\n",
    "\n",
    "ax.legend(['x', 'y'])\n",
    "\n",
    "plt.show()"
   ]
  },
  {
   "cell_type": "code",
   "execution_count": 67,
   "metadata": {},
   "outputs": [
    {
     "name": "stdout",
     "output_type": "stream",
     "text": [
      "длина вектора x: 1.4142135623730951\n",
      "длина вектора y: 2.0\n",
      "длина вектора z: 2.0\n",
      "Угол между векторами x, y: 0.7071067811865475\n",
      "Угол между векторами x, z: 0.7071067811865475\n"
     ]
    }
   ],
   "source": [
    "# длины векторов\n",
    "xLength = np.linalg.norm( x )\n",
    "yLength = np.linalg.norm( y )\n",
    "zLength = np.linalg.norm( z )\n",
    "\n",
    "print('длина вектора x:', xLength)\n",
    "print('длина вектора y:', yLength)\n",
    "print('длина вектора z:', zLength)\n",
    "\n",
    "print('Угол между векторами x, y:', np.dot( x, y ) / ( xLength * yLength ))\n",
    "print('Угол между векторами x, z:',np.dot( x, z ) / ( xLength * zLength ))"
   ]
  },
  {
   "cell_type": "markdown",
   "metadata": {},
   "source": [
    "## Задание 2"
   ]
  },
  {
   "cell_type": "markdown",
   "metadata": {},
   "source": [
    "Загрузите модель человека. Найдите расстояние от правой кисти до позвоночника"
   ]
  },
  {
   "cell_type": "code",
   "execution_count": 11,
   "metadata": {},
   "outputs": [],
   "source": [
    "ns = ['type', 'x', 'y', 'z']\n",
    "# read points for joints\n",
    "dfJointsVertexes = pd.read_csv('joints.txt', sep=' ', names = ns)\n",
    "axis_sort = 'x' \n",
    "df = dfJointsVertexes.sort_values(by=[axis_sort])"
   ]
  },
  {
   "cell_type": "code",
   "execution_count": 12,
   "metadata": {},
   "outputs": [
    {
     "data": {
      "text/html": [
       "<div>\n",
       "<style scoped>\n",
       "    .dataframe tbody tr th:only-of-type {\n",
       "        vertical-align: middle;\n",
       "    }\n",
       "\n",
       "    .dataframe tbody tr th {\n",
       "        vertical-align: top;\n",
       "    }\n",
       "\n",
       "    .dataframe thead th {\n",
       "        text-align: right;\n",
       "    }\n",
       "</style>\n",
       "<table border=\"1\" class=\"dataframe\">\n",
       "  <thead>\n",
       "    <tr style=\"text-align: right;\">\n",
       "      <th></th>\n",
       "      <th>type</th>\n",
       "      <th>x</th>\n",
       "      <th>y</th>\n",
       "      <th>z</th>\n",
       "    </tr>\n",
       "  </thead>\n",
       "  <tbody>\n",
       "    <tr>\n",
       "      <td>21</td>\n",
       "      <td>v</td>\n",
       "      <td>-0.392414</td>\n",
       "      <td>0.045288</td>\n",
       "      <td>0.025403</td>\n",
       "    </tr>\n",
       "    <tr>\n",
       "      <td>20</td>\n",
       "      <td>v</td>\n",
       "      <td>-0.283883</td>\n",
       "      <td>0.219551</td>\n",
       "      <td>-0.024912</td>\n",
       "    </tr>\n",
       "    <tr>\n",
       "      <td>19</td>\n",
       "      <td>v</td>\n",
       "      <td>-0.163721</td>\n",
       "      <td>0.476657</td>\n",
       "      <td>-0.030335</td>\n",
       "    </tr>\n",
       "    <tr>\n",
       "      <td>18</td>\n",
       "      <td>v</td>\n",
       "      <td>-0.163721</td>\n",
       "      <td>0.476657</td>\n",
       "      <td>-0.030335</td>\n",
       "    </tr>\n",
       "    <tr>\n",
       "      <td>17</td>\n",
       "      <td>v</td>\n",
       "      <td>-0.163721</td>\n",
       "      <td>0.476657</td>\n",
       "      <td>-0.030335</td>\n",
       "    </tr>\n",
       "    <tr>\n",
       "      <td>7</td>\n",
       "      <td>v</td>\n",
       "      <td>-0.105431</td>\n",
       "      <td>-0.412672</td>\n",
       "      <td>-0.015059</td>\n",
       "    </tr>\n",
       "    <tr>\n",
       "      <td>8</td>\n",
       "      <td>v</td>\n",
       "      <td>-0.103304</td>\n",
       "      <td>-0.748699</td>\n",
       "      <td>-0.045038</td>\n",
       "    </tr>\n",
       "    <tr>\n",
       "      <td>22</td>\n",
       "      <td>v</td>\n",
       "      <td>-0.093564</td>\n",
       "      <td>-0.046249</td>\n",
       "      <td>-0.012199</td>\n",
       "    </tr>\n",
       "    <tr>\n",
       "      <td>5</td>\n",
       "      <td>v</td>\n",
       "      <td>-0.093564</td>\n",
       "      <td>-0.046249</td>\n",
       "      <td>-0.012199</td>\n",
       "    </tr>\n",
       "    <tr>\n",
       "      <td>6</td>\n",
       "      <td>v</td>\n",
       "      <td>-0.093564</td>\n",
       "      <td>-0.046249</td>\n",
       "      <td>-0.012199</td>\n",
       "    </tr>\n",
       "    <tr>\n",
       "      <td>11</td>\n",
       "      <td>v</td>\n",
       "      <td>-0.007937</td>\n",
       "      <td>0.627914</td>\n",
       "      <td>-0.003787</td>\n",
       "    </tr>\n",
       "    <tr>\n",
       "      <td>24</td>\n",
       "      <td>v</td>\n",
       "      <td>-0.002068</td>\n",
       "      <td>0.312048</td>\n",
       "      <td>0.021531</td>\n",
       "    </tr>\n",
       "    <tr>\n",
       "      <td>9</td>\n",
       "      <td>v</td>\n",
       "      <td>-0.002068</td>\n",
       "      <td>0.312048</td>\n",
       "      <td>0.021531</td>\n",
       "    </tr>\n",
       "    <tr>\n",
       "      <td>10</td>\n",
       "      <td>v</td>\n",
       "      <td>-0.002068</td>\n",
       "      <td>0.312048</td>\n",
       "      <td>0.021531</td>\n",
       "    </tr>\n",
       "    <tr>\n",
       "      <td>0</td>\n",
       "      <td>v</td>\n",
       "      <td>0.000889</td>\n",
       "      <td>0.119490</td>\n",
       "      <td>0.010071</td>\n",
       "    </tr>\n",
       "    <tr>\n",
       "      <td>3</td>\n",
       "      <td>v</td>\n",
       "      <td>0.093672</td>\n",
       "      <td>-0.398935</td>\n",
       "      <td>-0.008132</td>\n",
       "    </tr>\n",
       "    <tr>\n",
       "      <td>4</td>\n",
       "      <td>v</td>\n",
       "      <td>0.094885</td>\n",
       "      <td>-0.758728</td>\n",
       "      <td>-0.036067</td>\n",
       "    </tr>\n",
       "    <tr>\n",
       "      <td>23</td>\n",
       "      <td>v</td>\n",
       "      <td>0.098418</td>\n",
       "      <td>-0.053715</td>\n",
       "      <td>-0.021635</td>\n",
       "    </tr>\n",
       "    <tr>\n",
       "      <td>2</td>\n",
       "      <td>v</td>\n",
       "      <td>0.098418</td>\n",
       "      <td>-0.053715</td>\n",
       "      <td>-0.021635</td>\n",
       "    </tr>\n",
       "    <tr>\n",
       "      <td>1</td>\n",
       "      <td>v</td>\n",
       "      <td>0.098418</td>\n",
       "      <td>-0.053715</td>\n",
       "      <td>-0.021635</td>\n",
       "    </tr>\n",
       "    <tr>\n",
       "      <td>13</td>\n",
       "      <td>v</td>\n",
       "      <td>0.167869</td>\n",
       "      <td>0.466577</td>\n",
       "      <td>-0.034460</td>\n",
       "    </tr>\n",
       "    <tr>\n",
       "      <td>14</td>\n",
       "      <td>v</td>\n",
       "      <td>0.167869</td>\n",
       "      <td>0.466577</td>\n",
       "      <td>-0.034460</td>\n",
       "    </tr>\n",
       "    <tr>\n",
       "      <td>12</td>\n",
       "      <td>v</td>\n",
       "      <td>0.167869</td>\n",
       "      <td>0.466577</td>\n",
       "      <td>-0.034460</td>\n",
       "    </tr>\n",
       "    <tr>\n",
       "      <td>15</td>\n",
       "      <td>v</td>\n",
       "      <td>0.279588</td>\n",
       "      <td>0.248421</td>\n",
       "      <td>-0.008911</td>\n",
       "    </tr>\n",
       "    <tr>\n",
       "      <td>16</td>\n",
       "      <td>v</td>\n",
       "      <td>0.391673</td>\n",
       "      <td>0.044122</td>\n",
       "      <td>0.046747</td>\n",
       "    </tr>\n",
       "  </tbody>\n",
       "</table>\n",
       "</div>"
      ],
      "text/plain": [
       "   type         x         y         z\n",
       "21    v -0.392414  0.045288  0.025403\n",
       "20    v -0.283883  0.219551 -0.024912\n",
       "19    v -0.163721  0.476657 -0.030335\n",
       "18    v -0.163721  0.476657 -0.030335\n",
       "17    v -0.163721  0.476657 -0.030335\n",
       "7     v -0.105431 -0.412672 -0.015059\n",
       "8     v -0.103304 -0.748699 -0.045038\n",
       "22    v -0.093564 -0.046249 -0.012199\n",
       "5     v -0.093564 -0.046249 -0.012199\n",
       "6     v -0.093564 -0.046249 -0.012199\n",
       "11    v -0.007937  0.627914 -0.003787\n",
       "24    v -0.002068  0.312048  0.021531\n",
       "9     v -0.002068  0.312048  0.021531\n",
       "10    v -0.002068  0.312048  0.021531\n",
       "0     v  0.000889  0.119490  0.010071\n",
       "3     v  0.093672 -0.398935 -0.008132\n",
       "4     v  0.094885 -0.758728 -0.036067\n",
       "23    v  0.098418 -0.053715 -0.021635\n",
       "2     v  0.098418 -0.053715 -0.021635\n",
       "1     v  0.098418 -0.053715 -0.021635\n",
       "13    v  0.167869  0.466577 -0.034460\n",
       "14    v  0.167869  0.466577 -0.034460\n",
       "12    v  0.167869  0.466577 -0.034460\n",
       "15    v  0.279588  0.248421 -0.008911\n",
       "16    v  0.391673  0.044122  0.046747"
      ]
     },
     "execution_count": 12,
     "metadata": {},
     "output_type": "execute_result"
    }
   ],
   "source": [
    "df"
   ]
  },
  {
   "cell_type": "code",
   "execution_count": 20,
   "metadata": {},
   "outputs": [
    {
     "data": {
      "text/plain": [
       "<matplotlib.legend.Legend at 0x13dfc1c07c8>"
      ]
     },
     "execution_count": 20,
     "metadata": {},
     "output_type": "execute_result"
    },
    {
     "data": {
      "image/png": "[encoded data removed]",
      "text/plain": [
       "<Figure size 432x288 with 1 Axes>"
      ]
     },
     "metadata": {
      "needs_background": "light"
     },
     "output_type": "display_data"
    }
   ],
   "source": [
    "plt.scatter(df.x, df.y)\n",
    "plt.scatter(df.x[9], df.y[9])\n",
    "plt.scatter(df.x[16], df.y[16])\n",
    "plt.legend(['все параметрические точки', 'точка живота', 'точка кисти'])"
   ]
  },
  {
   "cell_type": "markdown",
   "metadata": {},
   "source": [
    "Спроецируем точку кисти на вектор позвоночника"
   ]
  },
  {
   "cell_type": "code",
   "execution_count": 13,
   "metadata": {},
   "outputs": [
    {
     "data": {
      "text/plain": [
       "<matplotlib.legend.Legend at 0x1ad6e0c4cc8>"
      ]
     },
     "execution_count": 13,
     "metadata": {},
     "output_type": "execute_result"
    },
    {
     "data": {
      "image/png": "[encoded data removed]",
      "text/plain": [
       "<Figure size 432x288 with 1 Axes>"
      ]
     },
     "metadata": {
      "needs_background": "light"
     },
     "output_type": "display_data"
    }
   ],
   "source": [
    "# вектор v - вектор позвоночника (составлен как разность одного вектора из другого)\n",
    "v = np.array([df.x[9] - df.x[11], df.y[9] - df.y[11]])\n",
    "# вектор w - вектор кисти\n",
    "w = np.array([df.x[16],df.y[16]])\n",
    "\n",
    "# строим проекцию данной точки w на вектор v: cv\n",
    "cv = np.array(df.x[9], df.y[9]) + (np.dot(w,v))/np.dot(v,np.transpose(v))*v\n",
    "\n",
    "# линия между v и cv\n",
    "plt.plot([w[0],cv[0]],[w[1],cv[1]],'r--',linewidth=1.5)\n",
    "plt.scatter(df.x, df.y)\n",
    "plt.scatter(cv[0], cv[1])\n",
    "plt.scatter(w[0], w[1])\n",
    "plt.legend(['проекция', '', 'cv - точка проекции', 'w - точка кисти'])"
   ]
  },
  {
   "cell_type": "markdown",
   "metadata": {},
   "source": [
    "Расстояние от точки кисти до позвоночника - модуль вектора, образованного разностью двух точек: cv и w."
   ]
  },
  {
   "cell_type": "code",
   "execution_count": 16,
   "metadata": {},
   "outputs": [
    {
     "data": {
      "text/plain": [
       "0.3945363610739645"
      ]
     },
     "execution_count": 16,
     "metadata": {},
     "output_type": "execute_result"
    }
   ],
   "source": [
    "linalg.norm(cv - w)"
   ]
  },
  {
   "cell_type": "markdown",
   "metadata": {},
   "source": [
    "# Задание 3"
   ]
  },
  {
   "cell_type": "markdown",
   "metadata": {},
   "source": [
    "Найдите собственные значения и собственные вектора матриц (необходимо решение на numpy). Для матрицы 3x3 можно посмотреть на корни характеристического многочлена, посчитанные в numpy."
   ]
  },
  {
   "cell_type": "code",
   "execution_count": 31,
   "metadata": {},
   "outputs": [],
   "source": [
    "m1 = np.array([[2, 2],\n",
    "               [1, 3]])\n",
    "\n",
    "m2 = np.array([[4, 1, -1],\n",
    "               [1, 4, -1],\n",
    "               [-1, -1, 4]])"
   ]
  },
  {
   "cell_type": "code",
   "execution_count": 34,
   "metadata": {},
   "outputs": [
    {
     "name": "stdout",
     "output_type": "stream",
     "text": [
      "Собственные вектора матрицы m1: \n",
      " [[-0.89442719 -0.70710678]\n",
      " [ 0.4472136  -0.70710678]]\n",
      "Собственные значения m1:  [1. 4.]\n"
     ]
    }
   ],
   "source": [
    "from numpy import linalg as LA\n",
    "e_vals, e_vecs = LA.eig(m1)\n",
    "print('Собственные вектора матрицы m1: \\n', e_vecs)\n",
    "print('Собственные значения m1: ', e_vals)"
   ]
  },
  {
   "cell_type": "code",
   "execution_count": 35,
   "metadata": {},
   "outputs": [
    {
     "name": "stdout",
     "output_type": "stream",
     "text": [
      "Собственные вектора матрицы m2: \n",
      " [[-0.57735027 -0.81649658  0.15430335]\n",
      " [-0.57735027  0.40824829  0.6172134 ]\n",
      " [ 0.57735027 -0.40824829  0.77151675]]\n",
      "Собственные значения m2:  [6. 3. 3.]\n"
     ]
    }
   ],
   "source": [
    "e_vals, e_vecs = LA.eig(m2)\n",
    "print('Собственные вектора матрицы m2: \\n', e_vecs)\n",
    "print('Собственные значения m2: ', e_vals)"
   ]
  },
  {
   "cell_type": "code",
   "execution_count": null,
   "metadata": {},
   "outputs": [],
   "source": []
  }
 ],
 "metadata": {
  "kernelspec": {
   "display_name": "Python 3",
   "language": "python",
   "name": "python3"
  },
  "language_info": {
   "codemirror_mode": {
    "name": "ipython",
    "version": 3
   },
   "file_extension": ".py",
   "mimetype": "text/x-python",
   "name": "python",
   "nbconvert_exporter": "python",
   "pygments_lexer": "ipython3",
   "version": "3.7.4"
  }
 },
 "nbformat": 4,
 "nbformat_minor": 2
}
